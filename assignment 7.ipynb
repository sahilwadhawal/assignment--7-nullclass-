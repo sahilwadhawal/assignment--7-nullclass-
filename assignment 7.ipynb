{
 "cells": [
  {
   "cell_type": "code",
   "execution_count": 7,
   "metadata": {},
   "outputs": [],
   "source": [
    "import datetime\n",
    "\n",
    "# Function to read translations from the given file paths and populate the translation dictionary\n",
    "def load_translation_dict(english_path, hindi_path):\n",
    "    translation_dict = {}\n",
    "    with open(english_path, 'r', encoding='utf-8') as eng_file, open(hindi_path, 'r', encoding='utf-8') as hin_file:\n",
    "        english_words = eng_file.readlines()\n",
    "        hindi_words = hin_file.readlines()\n",
    "        for eng_word, hin_word in zip(english_words, hindi_words):\n",
    "            translation_dict[eng_word.strip().lower()] = hin_word.strip()\n",
    "    return translation_dict\n",
    "\n",
    "# Path to the dataset files\n",
    "english_path = \"../data7/english.txt\"\n",
    "hindi_path =\"../data7/hindi.txt\"\n",
    "\n",
    "translation_dict = load_translation_dict(english_path, hindi_path)\n",
    "\n",
    "def starts_with_vowel(word):\n",
    "    vowels = 'AEIOUaeiou'\n",
    "    return word[0] in vowels\n",
    "\n",
    "def translate_to_hindi(word):\n",
    "    return translation_dict.get(word.lower(), \"Translation not found\")\n",
    "\n",
    "def translate_word_with_constraints(word):\n",
    "    current_time = datetime.datetime.now().time()\n",
    "    start_time = datetime.time(21, 0)\n",
    "    end_time = datetime.time(22, 0)\n",
    "\n",
    "    if starts_with_vowel(word):\n",
    "        if start_time <= current_time <= end_time:\n",
    "            return translate_to_hindi(word)\n",
    "        else:\n",
    "            return \"This word starts with a vowel,Provide some other words\"\n",
    "    else:\n",
    "        return translate_to_hindi(word)"
   ]
  },
  {
   "cell_type": "code",
   "execution_count": 8,
   "metadata": {},
   "outputs": [
    {
     "name": "stdout",
     "output_type": "stream",
     "text": [
      "English --> hello\n",
      "Hindi --> नमस्ते\n"
     ]
    }
   ],
   "source": [
    "word = input(\"Enter an English word: \")\n",
    "result = translate_word_with_constraints(word)\n",
    "\n",
    "if \"This word starts with a vowel\" in result:\n",
    "    print(f\"English --> {word}\\n\\n{result}\")\n",
    "else:\n",
    "    print(f\"English --> {word}\\nHindi --> {result}\")"
   ]
  }
 ],
 "metadata": {
  "kernelspec": {
   "display_name": "nullclass1",
   "language": "python",
   "name": "python3"
  },
  "language_info": {
   "codemirror_mode": {
    "name": "ipython",
    "version": 3
   },
   "file_extension": ".py",
   "mimetype": "text/x-python",
   "name": "python",
   "nbconvert_exporter": "python",
   "pygments_lexer": "ipython3",
   "version": "3.9.18"
  }
 },
 "nbformat": 4,
 "nbformat_minor": 2
}
